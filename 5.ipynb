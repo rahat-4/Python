{
  "nbformat": 4,
  "nbformat_minor": 0,
  "metadata": {
    "colab": {
      "name": "5.ipynb",
      "provenance": [],
      "authorship_tag": "ABX9TyPNfNV01W0eS0JoPC38G8wM",
      "include_colab_link": true
    },
    "kernelspec": {
      "name": "python3",
      "display_name": "Python 3"
    },
    "language_info": {
      "name": "python"
    }
  },
  "cells": [
    {
      "cell_type": "markdown",
      "metadata": {
        "id": "view-in-github",
        "colab_type": "text"
      },
      "source": [
        "<a href=\"https://colab.research.google.com/github/rahat-4/Python/blob/main/5.ipynb\" target=\"_parent\"><img src=\"https://colab.research.google.com/assets/colab-badge.svg\" alt=\"Open In Colab\"/></a>"
      ]
    },
    {
      "cell_type": "code",
      "metadata": {
        "id": "uQrnM4i86Bl-"
      },
      "source": [
        "def isValid(l1,l2,l3):\n",
        "  if(l1+l2+l3 == 180 and l1!=0 and l2!=0 and l3!=0 ):\n",
        "      print(\"This tringle is valid.\")\n",
        "  else:\n",
        "    print(\"This triangle is not valid.\")"
      ],
      "execution_count": 2,
      "outputs": []
    },
    {
      "cell_type": "code",
      "metadata": {
        "colab": {
          "base_uri": "https://localhost:8080/"
        },
        "id": "rtQPbo2z9O9H",
        "outputId": "1790cda6-368f-48cb-f662-9c0ba4bc6594"
      },
      "source": [
        "length1,length2,length3 = map(int,input(\"Enter three sides of triangle: \").split())"
      ],
      "execution_count": 21,
      "outputs": [
        {
          "output_type": "stream",
          "text": [
            "Enter three sides of triangle: 75 20 41\n"
          ],
          "name": "stdout"
        }
      ]
    },
    {
      "cell_type": "code",
      "metadata": {
        "colab": {
          "base_uri": "https://localhost:8080/"
        },
        "id": "ewKK_gX49b5O",
        "outputId": "534c1173-5c64-4322-ab59-fdfc2fe748bd"
      },
      "source": [
        "isValid(length1,length2,length3)"
      ],
      "execution_count": 22,
      "outputs": [
        {
          "output_type": "stream",
          "text": [
            "This triangle is not valid.\n"
          ],
          "name": "stdout"
        }
      ]
    }
  ]
}