{
  "nbformat": 4,
  "nbformat_minor": 0,
  "metadata": {
    "colab": {
      "name": "9.ipynb",
      "provenance": [],
      "authorship_tag": "ABX9TyNxGBxnozsuR0CIzi3Bah+B",
      "include_colab_link": true
    },
    "kernelspec": {
      "name": "python3",
      "display_name": "Python 3"
    },
    "language_info": {
      "name": "python"
    }
  },
  "cells": [
    {
      "cell_type": "markdown",
      "metadata": {
        "id": "view-in-github",
        "colab_type": "text"
      },
      "source": [
        "<a href=\"https://colab.research.google.com/github/rahat-4/Python/blob/main/9.ipynb\" target=\"_parent\"><img src=\"https://colab.research.google.com/assets/colab-badge.svg\" alt=\"Open In Colab\"/></a>"
      ]
    },
    {
      "cell_type": "code",
      "metadata": {
        "colab": {
          "base_uri": "https://localhost:8080/"
        },
        "id": "_8cEoNr2zq-E",
        "outputId": "f0abff70-3e9b-4f52-fe66-c92ab0a4805b"
      },
      "source": [
        "n = int(input(\"Enter number of elements: \")) #1,2,3,4,5,6,7,8,9\n",
        "\n",
        "li=[]\n",
        "for i in range(n):\n",
        "  num=int(input())\n",
        "  li.append(num)\n",
        "\n",
        "l = tuple(li)"
      ],
      "execution_count": 33,
      "outputs": [
        {
          "output_type": "stream",
          "text": [
            "Enter number of elements: 9\n",
            "1\n",
            "2\n",
            "3\n",
            "4\n",
            "5\n",
            "6\n",
            "7\n",
            "8\n",
            "9\n",
            "(1, 2, 3, 4, 5, 6, 7, 8, 9)\n"
          ],
          "name": "stdout"
        }
      ]
    },
    {
      "cell_type": "code",
      "metadata": {
        "id": "FZgUYRXav_qt"
      },
      "source": [
        "s=s1=0\n",
        "for i in l:\n",
        "  if(i%2==0):\n",
        "    s=s+1\n",
        "  else:\n",
        "    s1=s1+1"
      ],
      "execution_count": 34,
      "outputs": []
    },
    {
      "cell_type": "code",
      "metadata": {
        "colab": {
          "base_uri": "https://localhost:8080/"
        },
        "id": "O67VG54MwbX9",
        "outputId": "c4b4b34f-c97d-4a85-e4b7-72fe6d7a000a"
      },
      "source": [
        "print(\"Number of even numbers: \",s)\n",
        "print(\"Number of odd numbers: \",s1)"
      ],
      "execution_count": 35,
      "outputs": [
        {
          "output_type": "stream",
          "text": [
            "Number of even numbers:  4\n",
            "Number of odd numbers:  5\n"
          ],
          "name": "stdout"
        }
      ]
    }
  ]
}