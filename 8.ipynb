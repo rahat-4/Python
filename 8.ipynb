{
  "nbformat": 4,
  "nbformat_minor": 0,
  "metadata": {
    "colab": {
      "name": "8.ipynb",
      "provenance": [],
      "authorship_tag": "ABX9TyMYvC/K8toKSNZFoeMzwr3I",
      "include_colab_link": true
    },
    "kernelspec": {
      "name": "python3",
      "display_name": "Python 3"
    },
    "language_info": {
      "name": "python"
    }
  },
  "cells": [
    {
      "cell_type": "markdown",
      "metadata": {
        "id": "view-in-github",
        "colab_type": "text"
      },
      "source": [
        "<a href=\"https://colab.research.google.com/github/rahat-4/Python/blob/main/8.ipynb\" target=\"_parent\"><img src=\"https://colab.research.google.com/assets/colab-badge.svg\" alt=\"Open In Colab\"/></a>"
      ]
    },
    {
      "cell_type": "code",
      "metadata": {
        "colab": {
          "base_uri": "https://localhost:8080/"
        },
        "id": "d0ZrlvsiUmh4",
        "outputId": "8d41a246-3af6-4284-f79b-107bde847a6e"
      },
      "source": [
        "st = input(\"Enter string: \")"
      ],
      "execution_count": 35,
      "outputs": [
        {
          "output_type": "stream",
          "text": [
            "Enter string: Python 3.2\n"
          ],
          "name": "stdout"
        }
      ]
    },
    {
      "cell_type": "code",
      "metadata": {
        "id": "EJBhX4dGV-m8"
      },
      "source": [
        "d=l=0\n",
        "for i in st:\n",
        "  if i.isdigit():\n",
        "    d=d+1\n",
        "  elif i.isalpha():\n",
        "    l=l+1\n",
        "  else:\n",
        "    pass"
      ],
      "execution_count": 37,
      "outputs": []
    },
    {
      "cell_type": "code",
      "metadata": {
        "colab": {
          "base_uri": "https://localhost:8080/"
        },
        "id": "Ibh0Rx_yW4OZ",
        "outputId": "b787fef4-8659-4ccb-afc8-a512a624c584"
      },
      "source": [
        "print(\"Letters: \",l);\n",
        "print(\"Digits: \",d);"
      ],
      "execution_count": 38,
      "outputs": [
        {
          "output_type": "stream",
          "text": [
            "Letters:  6\n",
            "Digits:  2\n"
          ],
          "name": "stdout"
        }
      ]
    }
  ]
}