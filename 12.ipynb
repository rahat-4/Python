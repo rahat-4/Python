{
  "nbformat": 4,
  "nbformat_minor": 0,
  "metadata": {
    "colab": {
      "name": "12.ipynb",
      "provenance": [],
      "authorship_tag": "ABX9TyM0VGBQkzff+4rwEjpb3lvS",
      "include_colab_link": true
    },
    "kernelspec": {
      "name": "python3",
      "display_name": "Python 3"
    },
    "language_info": {
      "name": "python"
    }
  },
  "cells": [
    {
      "cell_type": "markdown",
      "metadata": {
        "id": "view-in-github",
        "colab_type": "text"
      },
      "source": [
        "<a href=\"https://colab.research.google.com/github/rahat-4/Python/blob/main/12.ipynb\" target=\"_parent\"><img src=\"https://colab.research.google.com/assets/colab-badge.svg\" alt=\"Open In Colab\"/></a>"
      ]
    },
    {
      "cell_type": "code",
      "metadata": {
        "id": "CXWfQvhV-lMd"
      },
      "source": [
        "from random import randint\n",
        "x = randint(1,9)"
      ],
      "execution_count": 24,
      "outputs": []
    },
    {
      "cell_type": "code",
      "metadata": {
        "colab": {
          "base_uri": "https://localhost:8080/"
        },
        "id": "Oclu_x7vAejK",
        "outputId": "3d912822-15a1-47de-811e-f217019b2f1c"
      },
      "source": [
        "count = 0\n",
        "while True:\n",
        "  guess = input(\"Enter a random number: \")\n",
        "  if(guess == \"exit\"):\n",
        "    break;\n",
        "  \n",
        "  n = int(guess)\n",
        "  if(1<=n<=9 and x<n):\n",
        "    print(\"Too high.\")\n",
        "    count+=1\n",
        "  elif(1<=n<=9 and x>n):\n",
        "    print(\"Too low.\")\n",
        "    count+=1\n",
        "  elif(n==x):\n",
        "    print(\"Exactly right.And\")\n",
        "    count+=1\n",
        "    break;\n",
        "  else:\n",
        "    print(\"Invalid number.Enter right number.\")\n",
        "\n",
        "print(\"You only take\",count,\"times!\")"
      ],
      "execution_count": 27,
      "outputs": [
        {
          "output_type": "stream",
          "text": [
            "Enter a random number: exit\n",
            "You only take 0 times!\n"
          ],
          "name": "stdout"
        }
      ]
    }
  ]
}